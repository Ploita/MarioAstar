{
 "cells": [
  {
   "cell_type": "code",
   "execution_count": 18,
   "metadata": {},
   "outputs": [],
   "source": [
    "class Tree:\n",
    "    def __init__(self, estado, filhos=None, pai=None, g=0, h=0, terminal=False, obj=False):\n",
    "        self.estado   = estado\n",
    "        self.filhos   = filhos # lista de filhos desse nó\n",
    "        \n",
    "        self.g = g\n",
    "        self.h = h\n",
    "        \n",
    "        self.eh_terminal = terminal\n",
    "        self.eh_obj      = obj\n",
    "        \n",
    "        self.pai = pai # apontador para o pai, útil para fazer o backtracking\n",
    "\n",
    "    def __str__(self):\n",
    "        return self.estado\n",
    "    \n",
    "estado = '0,0,0,0,0,0,0,0,0,0,0,0,0,0,0,0,0,0,0,0,0,0,0,0,0,0,0,0,0,0,0,0,0,0,0,0,0,0,0,0,0,0,0,0,0,0,0,0,0,0,0,0,0,0,0,0,0,0,0,0,0,0,0,0,0,0,0,0,0,0,0,0,0,0,0,0,0,0,0,0,0,0,0,0,0,0,0,0,0,0,0,0,0,0,0,0,0,0,0,0,0,0,0,0,0,0,0,0,0,0,0,0,0,0,0,0,0,0,0,0,0,0,0,0,0,0,0,0,0,0,0,0,0,0,0,0,0,0,0,0,0,0,0,0,0,0,0,0,0,0,0,0,0,0,0,0,0,0,0,0,0,0,0,0,0,0,0,0,0'\n",
    "\n",
    "tree = Tree(estado, g=0, h = 598.0)"
   ]
  },
  {
   "cell_type": "code",
   "execution_count": 19,
   "metadata": {},
   "outputs": [],
   "source": [
    "filho = tree\n",
    "moves = {'direita':128, 'corre':130, 'pula':131, 'spin':386, 'esquerda':64}\n",
    "\n",
    "filho.filhos = {}\n",
    "for k,v in moves.items():\n",
    "    filho.filhos[k] = Tree(estado, g=filho.g + 1, h= 500,\n",
    "                                pai=filho)\n"
   ]
  },
  {
   "cell_type": "code",
   "execution_count": 20,
   "metadata": {},
   "outputs": [
    {
     "name": "stdout",
     "output_type": "stream",
     "text": [
      "direita\n",
      "corre\n",
      "pula\n",
      "spin\n",
      "esquerda\n"
     ]
    }
   ],
   "source": [
    "for i,j in moves.items():\n",
    "    if filho.filhos[i].estado == filho.filhos['direita'].estado:\n",
    "        print(i)"
   ]
  },
  {
   "cell_type": "code",
   "execution_count": 21,
   "metadata": {},
   "outputs": [],
   "source": [
    "lista = [10, 3, 9]"
   ]
  },
  {
   "cell_type": "code",
   "execution_count": 22,
   "metadata": {},
   "outputs": [
    {
     "name": "stdout",
     "output_type": "stream",
     "text": [
      "[[0, 10], [1, 3], [2, 9]]\n"
     ]
    },
    {
     "data": {
      "text/plain": [
       "[0, 10]"
      ]
     },
     "execution_count": 22,
     "metadata": {},
     "output_type": "execute_result"
    }
   ],
   "source": [
    "l = []\n",
    "for a,b in enumerate(lista):\n",
    "    l.append([a, b])\n",
    "#l[0][0] = 5\n",
    "print(l)\n",
    "min(l)"
   ]
  },
  {
   "cell_type": "code",
   "execution_count": 41,
   "metadata": {},
   "outputs": [
    {
     "data": {
      "text/plain": [
       "2"
      ]
     },
     "execution_count": 41,
     "metadata": {},
     "output_type": "execute_result"
    }
   ],
   "source": [
    "import random\n",
    "lista_f = [[10,20],\n",
    "[2,22],\n",
    "[2,24]]\n",
    "melhor_f = min(lista_f)\n",
    "candidatos_f = [Tree(1), Tree(2), Tree(3)]\n",
    "a = random.choice(range(len(candidatos_f)))\n",
    "a"
   ]
  },
  {
   "cell_type": "code",
   "execution_count": 3,
   "metadata": {},
   "outputs": [
    {
     "data": {
      "text/plain": [
       "1"
      ]
     },
     "execution_count": 3,
     "metadata": {},
     "output_type": "execute_result"
    }
   ],
   "source": [
    "def a():\n",
    "    return 1,2\n",
    "\n",
    "b = a()\n",
    "b[0]"
   ]
  },
  {
   "cell_type": "code",
   "execution_count": 7,
   "metadata": {},
   "outputs": [
    {
     "name": "stdout",
     "output_type": "stream",
     "text": [
      "Posições das diferenças: [27, 40, 47, 48, 49, 54, 55, 61, 62, 80, 81, 82, 99, 100, 106, 107, 117, 118, 125, 126, 127, 131, 132, 135, 143, 144, 150, 154, 157, 159, 160, 161, 162, 163, 167, 168, 176, 177, 178, 180, 188, 189, 191, 195, 202, 204, 205, 206, 207, 212, 213, 214, 216, 218, 219, 223, 224, 234]\n"
     ]
    }
   ],
   "source": [
    "correspondencia = {'direita': 128, 'corre': 130, 'pula': 131, 'spin': 386, 'esquerda': 64}\n",
    "lista_original = ['direita', 'pula', 'pula', 'pula', 'esquerda', 'pula', 'pula', 'pula', 'pula', 'pula', 'pula', 'pula', 'pula', 'pula', 'pula', 'pula', 'pula', 'pula', 'pula', 'pula', 'pula', 'corre', 'pula', 'pula', 'pula', 'pula', 'pula', 'direita', 'pula', 'pula', 'pula', 'pula', 'pula', 'pula', 'pula', 'pula', 'pula', 'pula', 'pula', 'pula', 'pula', 'pula', 'pula', 'pula', 'pula', 'pula', \n",
    "'pula', 'pula', 'pula', 'pula', 'pula', 'pula', 'pula', 'pula', 'direita', 'direita', 'pula', 'pula', 'pula', 'pula', 'pula', 'direita', 'spin', 'pula', 'direita', 'pula', 'pula', 'pula', 'pula', 'pula', 'pula', 'pula', 'direita', 'pula', 'pula', 'pula', 'pula', 'pula', 'pula', 'pula', 'direita', 'spin', 'corre', 'pula', 'pula', 'pula', 'pula', 'pula', 'pula', 'pula', 'pula', 'pula', 'pula', 'pula', 'pula', 'pula', 'pula', 'pula', 'pula', 'pula', 'pula', 'pula', 'pula', 'pula', 'pula', 'pula', 'pula', 'pula', 'pula', 'direita', 'pula', 'pula', 'pula', 'pula', 'pula', 'pula', 'pula', 'pula', 'direita', 'pula', 'pula', 'pula', 'pula', 'pula', 'pula', 'pula', 'pula', 'pula', 'pula', 'pula', 'pula', 'direita', 'direita', 'pula', 'pula', 'direita', 'pula', 'pula', 'pula', 'pula', 'pula', 'pula', 'pula', 'direita', 'direita', 'pula', 'pula', 'pula', 'pula', 'pula', 'esquerda', 'pula', 'pula', 'pula', 'pula', 'pula', 'pula', 'corre', 'pula', 'esquerda', 'direita', 'esquerda', 'direita', 'pula', 'pula', 'pula', 'pula', 'direita', 'direita', 'pula', 'pula', 'pula', 'pula', 'pula', 'pula', 'pula', 'pula', 'pula', 'direita', 'pula', 'pula', 'pula', 'pula', 'pula', 'pula', 'pula', 'pula', 'pula', 'pula', 'pula', 'pula', 'direita', 'pula', 'pula', 'pula', 'pula', 'pula', 'pula', 'pula', 'pula', 'pula', 'pula', 'pula', 'pula', 'pula', 'pula', 'pula', 'pula', 'pula', 'pula', 'pula', 'pula', 'pula', 'pula', 'direita', 'pula', 'esquerda', 'pula', 'direita', 'direita', 'pula', 'pula', 'pula', 'pula', 'direita', 'pula', 'pula', 'pula', 'pula', 'pula', 'pula', 'pula', 'pula', 'pula', 'direita']\n",
    "\n",
    "lista1 = [131, 128, 131, 131, 131, 64, 131, 131, 131, 131, 131, 131, 131, 131, 131, 131, 131, 131, 131, 131, 131, 131, 130, 131, 131, 131, 131, 131, 131, 131, 131, 131, 131, 131, 131, 131, 131, 131, 131, 131, 131, 128, 131, 131, 131, 131, 131, 131, 128, 64, 131, 128, 131, 131, 131, 131, 131, 131, 131, 131, 131, 131, 131, 131, 131, 131, 128, 131, 131, 131, 131, 131, 131, 131, 131, 128, 131, 131, 131, 131, 131, 131, 131, 131, 131, 131, 131, 131, 131, 131, 131, 131, 131, 131, 131, 131, 131, 131, 131, 131, 131, 131, 128, 131, 128, 131, 131, 131, 131, 131, 128, 386, 131, 386, 131, 130, 128, 131, 131, 131, 131, 131, 131, 131, 131, 128, 131, 131, 131, 131, 131, 131, 131, 128, 386, 64, 130, 131, 131, 131, 131, 131, 131, 131, 131, 131, 131, 131, 131, 131, 131, 131, 131, 131, 131, 131, 131, 131, 131, 131, 131, 131, 131, 128, 131, 131, 131, 131, 131, 131, 131, 131, 128, 131, 131, 131, 131, 131, 131, 131, 131, 131, 131, 131, 131, 128, 128, 131, 131, 128, 131, 131, 131, 131, 131, 131, 131, 128, 128, 131, 131, 131, 131, 131, 64, 131, 131, 131, 131, 131, 131, 386, 130, 131, 64, 128, 64, 386, 128, 131, 131, 131, 131, 128, 128, 131, 131, 131, 131, 131, 131, 131, 131, 131, 128, 131, 131, 131, 131, 131, 131, 131, 131, 131, 131, 131, 131, 128, 131, 131, 131, 131, 131, 131, 131, 131, 131, 131, 131, 131, 131, 131, 131, 131, 131, 131, 131, 131, 131, 131, 131, 128, 131, 64, 131, 386, 131, 130, 128, 131, 128, 131, 131, 131, 131, 128, 131, 131, 131, 131, 131, 131, 131, 131, 64, 128]\n",
    "lista2 = [131, 128, 131, 131, 131, 64, 131, 131, 131, 131, 131, 131, 131, 131, 131, 131, 131, 131, 131, 131, 131, 131, 130, 131, 131, 131, 131, 131, 131, 131, 131, 131, 131, 131, 131, 131, 131, 131, 131, 131, 131, 128, 131, 131, 131, 131, 131, 131, 128, 64,      128, 131, 131, 131, 131, 131, 131, 131, 131, 131, 131, 131, 131, 131, 131, 128, 131, 131, 131, 131, 131, 131, 131,      128, 131, 131, 131, 131, 131, 131, 131, 131, 131, 131, 131, 131, 131, 131, 131, 131, 131, 131, 131, 131, 131, 131, 131, 131, 131, 131, 128,      128, 131, 131, 131, 131, 131, 128, 386, 131,                128, 131, 131, 131, 131, 131, 131, 131,      128, 131, 131, 131, 131, 131, 131, 131, 128, 386,     130, 131, 131, 131, 131, 131, 131, 131, 131, 131, 131, 131, 131, 131, 131, 131, 131, 131, 131, 131, 131, 131, 131, 131, 131, 131, 131, 128, 131, 131, 131, 131, 131, 131, 131, 131, 128, 131, 131, 131, 131, 131, 131, 131, 131, 131, 131, 131, 131, 128, 128, 131, 131, 128, 131, 131, 131, 131, 131, 131, 131, 128, 128, 131, 131, 131, 131, 131, 64, 131, 131, 131, 131, 131, 131,      130, 131, 64, 128, 64,      128, 131, 131, 131, 131, 128, 128, 131, 131, 131, 131, 131, 131, 131, 131, 131, 128, 131, 131, 131, 131, 131, 131, 131, 131, 131, 131, 131, 131, 128, 131, 131, 131, 131, 131, 131, 131, 131, 131, 131, 131, 131, 131, 131, 131, 131, 131, 131, 131, 131, 131, 131,      128, 131, 64, 131,                128,      128, 131, 131, 131, 131, 128, 131, 131, 131, 131, 131, 131, 131, 131, 64, 131]\n",
    "\n",
    "diferencas = []\n",
    "\n",
    "for i in range(len(lista1)):\n",
    "    if lista1[i] != lista2[i]:\n",
    "        diferencas.append(i)\n",
    "\n",
    "print(\"Posições das diferenças:\", diferencas)"
   ]
  }
 ],
 "metadata": {
  "kernelspec": {
   "display_name": "env",
   "language": "python",
   "name": "python3"
  },
  "language_info": {
   "codemirror_mode": {
    "name": "ipython",
    "version": 3
   },
   "file_extension": ".py",
   "mimetype": "text/x-python",
   "name": "python",
   "nbconvert_exporter": "python",
   "pygments_lexer": "ipython3",
   "version": "3.10.9"
  },
  "orig_nbformat": 4
 },
 "nbformat": 4,
 "nbformat_minor": 2
}
