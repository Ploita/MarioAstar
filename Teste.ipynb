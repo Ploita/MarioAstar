{
 "cells": [
  {
   "cell_type": "code",
   "execution_count": 18,
   "metadata": {},
   "outputs": [],
   "source": [
    "class Tree:\n",
    "    def __init__(self, estado, filhos=None, pai=None, g=0, h=0, terminal=False, obj=False):\n",
    "        self.estado   = estado\n",
    "        self.filhos   = filhos # lista de filhos desse nó\n",
    "        \n",
    "        self.g = g\n",
    "        self.h = h\n",
    "        \n",
    "        self.eh_terminal = terminal\n",
    "        self.eh_obj      = obj\n",
    "        \n",
    "        self.pai = pai # apontador para o pai, útil para fazer o backtracking\n",
    "\n",
    "    def __str__(self):\n",
    "        return self.estado\n",
    "    \n",
    "estado = '0,0,0,0,0,0,0,0,0,0,0,0,0,0,0,0,0,0,0,0,0,0,0,0,0,0,0,0,0,0,0,0,0,0,0,0,0,0,0,0,0,0,0,0,0,0,0,0,0,0,0,0,0,0,0,0,0,0,0,0,0,0,0,0,0,0,0,0,0,0,0,0,0,0,0,0,0,0,0,0,0,0,0,0,0,0,0,0,0,0,0,0,0,0,0,0,0,0,0,0,0,0,0,0,0,0,0,0,0,0,0,0,0,0,0,0,0,0,0,0,0,0,0,0,0,0,0,0,0,0,0,0,0,0,0,0,0,0,0,0,0,0,0,0,0,0,0,0,0,0,0,0,0,0,0,0,0,0,0,0,0,0,0,0,0,0,0,0,0'\n",
    "\n",
    "tree = Tree(estado, g=0, h = 598.0)"
   ]
  },
  {
   "cell_type": "code",
   "execution_count": 19,
   "metadata": {},
   "outputs": [],
   "source": [
    "filho = tree\n",
    "moves = {'direita':128, 'corre':130, 'pula':131, 'spin':386, 'esquerda':64}\n",
    "\n",
    "filho.filhos = {}\n",
    "for k,v in moves.items():\n",
    "    filho.filhos[k] = Tree(estado, g=filho.g + 1, h= 500,\n",
    "                                pai=filho)\n"
   ]
  },
  {
   "cell_type": "code",
   "execution_count": 20,
   "metadata": {},
   "outputs": [
    {
     "name": "stdout",
     "output_type": "stream",
     "text": [
      "direita\n",
      "corre\n",
      "pula\n",
      "spin\n",
      "esquerda\n"
     ]
    }
   ],
   "source": [
    "for i,j in moves.items():\n",
    "    if filho.filhos[i].estado == filho.filhos['direita'].estado:\n",
    "        print(i)"
   ]
  },
  {
   "cell_type": "code",
   "execution_count": 21,
   "metadata": {},
   "outputs": [],
   "source": [
    "lista = [10, 3, 9]"
   ]
  },
  {
   "cell_type": "code",
   "execution_count": 22,
   "metadata": {},
   "outputs": [
    {
     "name": "stdout",
     "output_type": "stream",
     "text": [
      "[[0, 10], [1, 3], [2, 9]]\n"
     ]
    },
    {
     "data": {
      "text/plain": [
       "[0, 10]"
      ]
     },
     "execution_count": 22,
     "metadata": {},
     "output_type": "execute_result"
    }
   ],
   "source": [
    "l = []\n",
    "for a,b in enumerate(lista):\n",
    "    l.append([a, b])\n",
    "#l[0][0] = 5\n",
    "print(l)\n",
    "min(l)"
   ]
  },
  {
   "cell_type": "code",
   "execution_count": 41,
   "metadata": {},
   "outputs": [
    {
     "data": {
      "text/plain": [
       "2"
      ]
     },
     "execution_count": 41,
     "metadata": {},
     "output_type": "execute_result"
    }
   ],
   "source": [
    "import random\n",
    "lista_f = [[10,20],\n",
    "[2,22],\n",
    "[2,24]]\n",
    "melhor_f = min(lista_f)\n",
    "candidatos_f = [Tree(1), Tree(2), Tree(3)]\n",
    "a = random.choice(range(len(candidatos_f)))\n",
    "a"
   ]
  },
  {
   "cell_type": "code",
   "execution_count": 3,
   "metadata": {},
   "outputs": [
    {
     "data": {
      "text/plain": [
       "1"
      ]
     },
     "execution_count": 3,
     "metadata": {},
     "output_type": "execute_result"
    }
   ],
   "source": [
    "def a():\n",
    "    return 1,2\n",
    "\n",
    "b = a()\n",
    "b[0]"
   ]
  },
  {
   "cell_type": "code",
   "execution_count": null,
   "metadata": {},
   "outputs": [],
   "source": [
    "''' Verifica se atingiu o objetivo \n",
    "    \n",
    "    Entrada: um nó da árvore\n",
    "    Saída:   (True, acoes) se atingiu o objetivo, sendo acoes a sequência de ações para chegar até ele.\n",
    "             (False, [])  se não atingiu o objetivo\n",
    "    '''\n",
    "    \n",
    "    # Complete as tarefas a seguir e remova a instrução pass\n",
    "    \n",
    "    # 1) Se o nó é terminal, retorna o valor de eh_obj e a lista vazia de ações\n",
    "\n",
    "    if tree.eh_terminal:\n",
    "        return tree.eh_obj, []\n",
    "    \n",
    "    # 2) Se o conjunto de filhos é None, retorna falso e lista vazia, pois não atingiu o obj\n",
    "    \n",
    "    if tree.filhos is None:\n",
    "        return False, []\n",
    "    \n",
    "    # 3) Se nenhum dos anteriores retornou, para cada movimento \"k\" e valor \"v\" possível do dicionário moves:\n",
    "    #       chama recursivamente atingiuObj com o filho do movimento \"k\" e recebe obj, acoes\n",
    "    #       Se obj for verdadeiro, retorna obj e a lista de acoes concatenado com \"v\"\n",
    "    for k, v in enumerate(tree.filhos):\n",
    "        obj, acoes = atingiuObj(v)\n",
    "        if obj == True:\n",
    "            return obj, acoes + [k]\n",
    "    \n",
    "    # 4) Se chegar ao final do laço sem retorna, retorne falso e vazio\n",
    "    return False, []"
   ]
  },
  {
   "cell_type": "code",
   "execution_count": 1,
   "metadata": {},
   "outputs": [
    {
     "name": "stdout",
     "output_type": "stream",
     "text": [
      "Objeto associado ao menor valor: objeto2\n"
     ]
    }
   ],
   "source": [
    "lista = [(10, \"objeto1\"), (5, \"objeto2\"), (8, \"objeto3\")]\n",
    "\n",
    "objeto_menor = min(lista, key=lambda x: x[0])[1]\n",
    "\n",
    "print(\"Objeto associado ao menor valor:\", objeto_menor)\n"
   ]
  }
 ],
 "metadata": {
  "kernelspec": {
   "display_name": "env",
   "language": "python",
   "name": "python3"
  },
  "language_info": {
   "codemirror_mode": {
    "name": "ipython",
    "version": 3
   },
   "file_extension": ".py",
   "mimetype": "text/x-python",
   "name": "python",
   "nbconvert_exporter": "python",
   "pygments_lexer": "ipython3",
   "version": "3.11.2"
  },
  "orig_nbformat": 4
 },
 "nbformat": 4,
 "nbformat_minor": 2
}
