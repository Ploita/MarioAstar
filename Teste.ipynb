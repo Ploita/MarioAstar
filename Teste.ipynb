{
 "cells": [
  {
   "cell_type": "code",
   "execution_count": 2,
   "metadata": {},
   "outputs": [],
   "source": [
    "class Tree:\n",
    "    def __init__(self, estado, filhos=None, pai=None, g=0, h=0, terminal=False, obj=False):\n",
    "        self.estado   = estado\n",
    "        self.filhos   = filhos # lista de filhos desse nó\n",
    "        \n",
    "        self.g = g\n",
    "        self.h = h\n",
    "        \n",
    "        self.eh_terminal = terminal\n",
    "        self.eh_obj      = obj\n",
    "        \n",
    "        self.pai = pai # apontador para o pai, útil para fazer o backtracking\n",
    "\n",
    "    def __str__(self):\n",
    "        return self.estado\n",
    "    \n",
    "estado = '0,0,0,0,0,0,0,0,0,0,0,0,0,0,0,0,0,0,0,0,0,0,0,0,0,0,0,0,0,0,0,0,0,0,0,0,0,0,0,0,0,0,0,0,0,0,0,0,0,0,0,0,0,0,0,0,0,0,0,0,0,0,0,0,0,0,0,0,0,0,0,0,0,0,0,0,0,0,0,0,0,0,0,0,0,0,0,0,0,0,0,0,0,0,0,0,0,0,0,0,0,0,0,0,0,0,0,0,0,0,0,0,0,0,0,0,0,0,0,0,0,0,0,0,0,0,0,0,0,0,0,0,0,0,0,0,0,0,0,0,0,0,0,0,0,0,0,0,0,0,0,0,0,0,0,0,0,0,0,0,0,0,0,0,0,0,0,0,0'\n",
    "\n",
    "tree = Tree(estado, g=0, h = 598.0)"
   ]
  },
  {
   "cell_type": "code",
   "execution_count": 3,
   "metadata": {},
   "outputs": [],
   "source": [
    "filho = tree\n",
    "moves = {'direita':128, 'corre':130, 'pula':131, 'spin':386, 'esquerda':64}\n",
    "\n",
    "filho.filhos = {}\n",
    "for k,v in moves.items():\n",
    "    filho.filhos[k] = Tree(estado, g=filho.g + 1, h= 500,\n",
    "                                pai=filho)\n"
   ]
  },
  {
   "cell_type": "code",
   "execution_count": 12,
   "metadata": {},
   "outputs": [
    {
     "name": "stdout",
     "output_type": "stream",
     "text": [
      "direita\n",
      "corre\n",
      "pula\n",
      "spin\n",
      "esquerda\n"
     ]
    }
   ],
   "source": [
    "for i,j in moves.items():\n",
    "    if filho.filhos[i].estado == filho.filhos['direita'].estado:\n",
    "        print(i)"
   ]
  },
  {
   "cell_type": "code",
   "execution_count": 61,
   "metadata": {},
   "outputs": [],
   "source": [
    "lista = [10, 3, 9]"
   ]
  },
  {
   "cell_type": "code",
   "execution_count": 62,
   "metadata": {},
   "outputs": [
    {
     "name": "stdout",
     "output_type": "stream",
     "text": [
      "[[0, 10], [1, 3], [2, 9]]\n"
     ]
    },
    {
     "data": {
      "text/plain": [
       "[0, 10]"
      ]
     },
     "execution_count": 62,
     "metadata": {},
     "output_type": "execute_result"
    }
   ],
   "source": [
    "l = []\n",
    "for a,b in enumerate(lista):\n",
    "    l.append([a, b])\n",
    "#l[0][0] = 5\n",
    "print(l)\n",
    "min(l)"
   ]
  }
 ],
 "metadata": {
  "kernelspec": {
   "display_name": "env",
   "language": "python",
   "name": "python3"
  },
  "language_info": {
   "codemirror_mode": {
    "name": "ipython",
    "version": 3
   },
   "file_extension": ".py",
   "mimetype": "text/x-python",
   "name": "python",
   "nbconvert_exporter": "python",
   "pygments_lexer": "ipython3",
   "version": "3.10.9"
  },
  "orig_nbformat": 4
 },
 "nbformat": 4,
 "nbformat_minor": 2
}
